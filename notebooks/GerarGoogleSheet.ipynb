{
 "cells": [
  {
   "cell_type": "code",
   "execution_count": null,
   "id": "f9cf78c3-61a5-4589-83d0-a5591fc0a83e",
   "metadata": {},
   "outputs": [],
   "source": [
    "import gspread\n",
    "from df2gspread import df2gspread as d2g\n",
    "from oauth2client.service_account import ServiceAccountCredentials\n",
    "from datetime import datetime\n",
    "import pandas as pd\n",
    "\n",
    "# Autenticação\n",
    "scope = ['https://spreadsheets.google.com/feeds',\n",
    "         'https://www.googleapis.com/auth/drive',\n",
    "         'https://www.googleapis.com/auth/drive.file',\n",
    "         'https://www.googleapis.com/auth/spreadsheets']\n",
    "creds = ServiceAccountCredentials.from_json_keyfile_name(\n",
    "    r'C:\\Users\\Guilherme\\OneDrive - Firjan\\Projetos\\Pessoal\\CrawlerSuno\\Code\\serviceaccount.json', scope)\n",
    "client = gspread.authorize(creds)\n",
    "\n",
    "# Criar nova planilha\n",
    "spreadsheet = client.create('Carteira_Suno')\n",
    "spreadsheet.share('gu1lh3rm3.a.f@gmail.com', perm_type='user', role='writer')  # ou 'reader'\n",
    "\n",
    "# Obter a aba\n",
    "worksheet = spreadsheet.get_worksheet(0)\n",
    "worksheet.update_title('Carteira_Suno')\n",
    "\n",
    "# Obter o novo spreadsheet_key\n",
    "spreadsheet_key = spreadsheet.id\n",
    "print(\"Novo link:\", f\"https://docs.google.com/spreadsheets/d/{spreadsheet_key}/edit\")\n",
    "\n",
    "# Enviar os dados novamente\n",
    "d2g.upload(data, spreadsheet_key, 'Carteira_Suno', credentials=creds,\n",
    "           col_names=True, row_names=False, start_cell='A1', clean=False)\n",
    "\n",
    "# Atualizar data de atualização\n",
    "now = datetime.now()\n",
    "dt_string = now.strftime(\"%d/%m/%Y %H:%M:%S\")\n",
    "dt_upt = pd.DataFrame({'ultima_atualizacao': [dt_string]})\n",
    "d2g.upload(dt_upt, spreadsheet_key, 'Carteira_Suno', credentials=creds,\n",
    "           col_names=True, row_names=False, start_cell='L1', clean=False)\n"
   ]
  }
 ],
 "metadata": {
  "kernelspec": {
   "display_name": "Python 3 (ipykernel)",
   "language": "python",
   "name": "python3"
  },
  "language_info": {
   "codemirror_mode": {
    "name": "ipython",
    "version": 3
   },
   "file_extension": ".py",
   "mimetype": "text/x-python",
   "name": "python",
   "nbconvert_exporter": "python",
   "pygments_lexer": "ipython3",
   "version": "3.11.7"
  }
 },
 "nbformat": 4,
 "nbformat_minor": 5
}
